{
 "cells": [
  {
   "cell_type": "markdown",
   "metadata": {},
   "source": [
    "#  Python ile ilgili bilgiler\n",
    "\n",
    "\n",
    "## Python venv\n",
    "\n",
    "\n",
    "Venv gelistiricinin python kutuphanelerini kendi lokalin'de eslenigini yaratip yonetmesine olanak saglayanb bir ortamdir. Bu sayede python'da sikca karsilasilan versiyon cakismalarinin onune gecilmesi hedeflenmektedir.\n",
    "\n",
    "tutorial [suradan](https://https://docs.python.org/3/tutorial/venv.html) elde edilebilir.\n",
    "\n",
    "Ornek kullanim icin [surdaki](https://www.youtube.com/watch?v=N5vscPTWKOk) video izlenebilir\n",
    "\n",
    "### Venv kullaniminda olagan komut akisi\n",
    "\n",
    "1. virtual env'i yarat\n",
    "```\n",
    "$>python3.6 -m venv  tutorial-env\n",
    "```\n",
    "\n",
    "1. virtual env'i aktiflestir. \n",
    "```\n",
    "$> ./tutorial-env/bin/activate\n",
    "```\n",
    "\n",
    "1. python'u kontrol et ve virtual env'deki python oldugundan emin ol\n",
    "```\n",
    "$>which python\n",
    "```\n",
    "\n",
    "1. sanal ortamdaki python paketlerini gor\n",
    "```\n",
    "$> pip list\n",
    "```\n",
    "\n",
    "1. istedigin paketi yukle\n",
    "```\n",
    "$> pip install <paket adi>\n",
    "```\n",
    "\n",
    "1. sanal python'daki paket versiyonlarini sakla.\n",
    "```\n",
    "$> pip freeze --local >requirements.txt\n",
    "```\n",
    "\n",
    "1. sanal ortamdan cik\n",
    "```\n",
    "$> deactivate\n",
    "```\n",
    "\n",
    "1. yarattigin python snal dizinini (bu ornekte 'tutorial-env') .gitignore'a ekle ki commit yaptiginda binary dosyalar upload olmasin.\n",
    "\n",
    "```\n",
    "$> echo '/tutorial-env/' >>.gitignore\n",
    "```\n",
    "\n",
    "### Venv ortamini klonlama\n",
    "\n",
    "Sanal python ortamini requirements.txt dosyasindan tekrar sifirdan kurmak icin asagidaki komut kullanilir.\n",
    "```\n",
    "$> pip install -r requirements.txt\n",
    "```\n",
    "\n",
    "\n"
   ]
  },
  {
   "cell_type": "markdown",
   "metadata": {},
   "source": [
    "## Python kod yazim standartlari\n",
    "\n",
    "Python yaziminda kod yazim standartlari asagidaki gibidir.\n",
    "\n",
    "\n",
    "\n",
    "### Her bir python dosyasi python class'larindan olusur\n",
    "\n",
    "Ornek kod asagidaki gibidir. Her bir clas \\_\\_init\\_\\_ ve start metodlarini icermek zorundadir. Hepsi 'object' class'indan extend eder.\n"
   ]
  },
  {
   "cell_type": "code",
   "execution_count": 1,
   "metadata": {},
   "outputs": [
    {
     "name": "stdout",
     "output_type": "stream",
     "text": [
      "started\n"
     ]
    }
   ],
   "source": [
    "#ornek python kodu\n",
    "class Csv2Mongo(object):\n",
    "        def __init__(self):\n",
    "                pass\n",
    "\n",
    "        def start(self):\n",
    "                print(\"started\")\n",
    "\n",
    "c_ = Csv2Mongo()\n",
    "c_.start()\n"
   ]
  },
  {
   "cell_type": "markdown",
   "metadata": {},
   "source": [
    "### Her bir data dosyasi icin datasource class i tanimlanir\n",
    "\n",
    "Asagida bir ornek vberilmistir.\n"
   ]
  },
  {
   "cell_type": "code",
   "execution_count": 3,
   "metadata": {},
   "outputs": [],
   "source": [
    "class Alo185DataSource(object):\n",
    "\n",
    "        def __init__(self):\n",
    "                pass\n",
    "\n",
    "        def start(self):\n",
    "                pass\n",
    "\n",
    "c_ = Alo185DataSource()\n",
    "c_.start()"
   ]
  },
  {
   "cell_type": "markdown",
   "metadata": {},
   "source": [
    "### Python paket yaratimi ve local'e kurulumu\n",
    "\n",
    "[burdaki](https://python-packaging.readthedocs.io/en/latest/minimal.html)  ve [buradaki](https://www.youtube.com/watch?v=NFpmPDIqQZw)linkten python paket yaratimi ve nasil import edildigi ogrenilebilir.\n",
    "\n",
    "Basitce her class ayni dizininde bos bir \\_\\_init\\_\\_.py dosyasini icermek zorundadir. Ayni dizine asagidaki python setup dosyasi eklenir\n",
    "\n",
    "```python\n",
    "from setuptools import setup\n",
    "\n",
    "setup(name='funniest',\n",
    "      version='0.1',\n",
    "      description='The funniest joke in the world',\n",
    "      url='http://github.com/storborg/funniest',\n",
    "      author='Flying Circus',\n",
    "      author_email='flyingcircus@example.com',\n",
    "      license='MIT',\n",
    "      packages=['funniest'],\n",
    "      zip_safe=False)\n",
    "```\n",
    "\n",
    "ve asagidaki komutlar calistirilir.\n",
    "\n",
    "```\n",
    "$ pip install .\n",
    "```\n",
    "\n",
    "yapilan degisikligin aninda import ettiginiz dosyada gorunmesi icin asagida komutu calistirmalisiniz.\n",
    "\n",
    "```\n",
    "$ pip install -e .\n",
    "```\n",
    "\n",
    "\n",
    "\n",
    "asagida ornek import kod cagrimi var.\n",
    "\n",
    "``` python\n",
    "import funniest\n",
    "print funniest.joke()\n",
    "```\n",
    "\n",
    "### Proje icinde ornek python paketi\n",
    "\n",
    "**/acm/python/acm/util** dizini altina bakilabilir."
   ]
  }
 ],
 "metadata": {
  "kernelspec": {
   "display_name": "Python 3",
   "language": "python",
   "name": "python3"
  },
  "language_info": {
   "codemirror_mode": {
    "name": "ipython",
    "version": 3
   },
   "file_extension": ".py",
   "mimetype": "text/x-python",
   "name": "python",
   "nbconvert_exporter": "python",
   "pygments_lexer": "ipython3",
   "version": "3.6.4"
  },
  "latex_envs": {
   "LaTeX_envs_menu_present": true,
   "autoclose": false,
   "autocomplete": true,
   "bibliofile": "biblio.bib",
   "cite_by": "apalike",
   "current_citInitial": 1,
   "eqLabelWithNumbers": true,
   "eqNumInitial": 1,
   "hotkeys": {
    "equation": "Ctrl-E",
    "itemize": "Ctrl-I"
   },
   "labels_anchors": false,
   "latex_user_defs": false,
   "report_style_numbering": false,
   "user_envs_cfg": false
  },
  "toc": {
   "base_numbering": 1,
   "nav_menu": {},
   "number_sections": true,
   "sideBar": true,
   "skip_h1_title": false,
   "title_cell": "Table of Contents",
   "title_sidebar": "Contents",
   "toc_cell": false,
   "toc_position": {},
   "toc_section_display": true,
   "toc_window_display": false
  }
 },
 "nbformat": 4,
 "nbformat_minor": 2
}
