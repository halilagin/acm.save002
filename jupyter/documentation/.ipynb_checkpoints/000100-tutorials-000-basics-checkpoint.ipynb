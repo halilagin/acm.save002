{
 "cells": [
  {
   "cell_type": "markdown",
   "metadata": {},
   "source": [
    "# Giris\n",
    "Bu dokuman bir gelisitiricinin gelistirme asamasinda bilmesi gereken minimum sistem kullanim bilgilerini icermektedir.\n"
   ]
  },
  {
   "cell_type": "markdown",
   "metadata": {},
   "source": [
    "## Proje git clone\n",
    "\n",
    "git clone http://192.168.11.55/acmgroup/acm.git\n",
    "\n",
    "use:halil\n",
    "pwd: 123456789"
   ]
  },
  {
   "cell_type": "markdown",
   "metadata": {},
   "source": [
    "## vim configuration\n",
    "\n",
    "~/.vimrc dosyasinda asagidaki dsatirlar olmali.\n",
    "```\n",
    "set tabstop=4\n",
    "set shiftwidth=4\n",
    "set softtabstop=4\n",
    "set expandtab\n",
    "```\n",
    "\n",
    "vim :set expandtab ts=4 sw=4 ai\n",
    "vim :%retab\n"
   ]
  },
  {
   "cell_type": "markdown",
   "metadata": {},
   "source": [
    "## SSH public key ile giris\n",
    "\n",
    "\n",
    "tutorial [suradan](https://www.ssh.com/ssh/copy-id) elde edilebilir. **ssh-copy-id** komutunun sisteminizde kurulu olmasi gerekir.\n",
    "\n",
    "Islemler'den sonra asagidaki komut ile sisteme girebilirsiniz.\n",
    "### Ornek\n",
    "```\n",
    "ssh user@host\n",
    "```"
   ]
  },
  {
   "cell_type": "markdown",
   "metadata": {},
   "source": [
    "## Jupyter dokumantasyon gereksinimleri\n",
    "\n",
    "Bu bolum Jupyter'i verimli kullanabilmek icin gerekli bilgileri icerir.\n",
    "\n",
    "### Ilk bilinmesi gerekenler\n",
    "\n",
    "**JUPYTER'deki BUG'lar**\n",
    "1. /usr/lib/python3.6/site-packages/bookbook/filter_links.py dosyasinda 'target = val[2][0]' satiri 'target = val[1][0]' seklinde degisitirilmelidir. Yoksa, pdf dosyasi uretemezsiniz. Sunucu'da pdf uretecekseniz bu hata ile karsilasmayacaksiniz cunku bu bug sunucuda duzeltildi.\n",
    "\n",
    "Asagidaki bilgiler olmazsa olmaz niteligindedir.\n",
    "\n",
    "1. Her IPython dosyasi '#' heading'i ile baslamak zorundadir. Bu, pdf uretimi icin olmazsa olmazdir, aksi takdirde hata alinmaktadir.\n",
    "1. Ipython'da cpu ve memory gerektiren agir uygulamar calistirilmaz, makine kitlenebilir.\n",
    "1. Jupyter dosyalari git'de versiyonlanmaktadir ve binary ve buyuk dosyalar versiyonlanmamktadir. Bunun icin en ust dizindeki data dizinini kullaniniz.\n",
    "1. Yapilan calismalarin tamami buraya yazilacaktir.\n",
    "1. PDF ciktisi almak istiyorsaniz **git/acm/documentation/make.printpreview.py** komutunu bash terminalden calistirmaniz gerekmektedir. PDF dosyasi **git/acm/documentation/build/pdf** altinda uretilmis olacaktir. PDF uretiminde hata alinmis ise bu hata muhtemelen LaTeX ile ilgilidir, google'da arastirmaniz yerinde olacaktir."
   ]
  },
  {
   "cell_type": "markdown",
   "metadata": {},
   "source": [
    "## LateX'de turkce karakterler\n",
    "\n",
    "\n",
    "```\n",
    "\\u{g} – ğ\n",
    "\\u{G} – Ğ\n",
    "\\c{c} – ç\n",
    "\\c{C} – Ç\n",
    "\\c{s} – ş\n",
    "\\c{S} – Ş\n",
    "\\”{u} – ü\n",
    "\\”{U} – Ü\n",
    "\\”{o} – ö\n",
    "\\”{O} – Ö\n",
    "{\\i} – ı\n",
    "\\.{I} – İ\n",
    "\\^{a}\n",
    "\\^{A}\n",
    "```\n"
   ]
  },
  {
   "cell_type": "markdown",
   "metadata": {},
   "source": [
    "## CentOS firewall port ekleme\n",
    "\n",
    "\n",
    "``` bash\n",
    "$> firewall-cmd --permanent --add-port=2001/tcp\n",
    "$> systemctl reload firewalld\n",
    "```\n",
    "\n"
   ]
  },
  {
   "cell_type": "markdown",
   "metadata": {},
   "source": [
    "## Mongodb yonetimi\n",
    "\n",
    "Ilgili tutorial:\n",
    "https://docs.mongodb.com/manual/tutorial/install-mongodb-on-red-hat/\n",
    "\n",
    "\n",
    "### Mongodb baslatma ve durdurma\n",
    "\n",
    "```\n",
    "sudo service mongod start\n",
    "sudo service mongod stop\n",
    "```\n",
    "\n",
    "### mongodb service on boot\n",
    "```\n",
    "sudo chkconfig mongod on\n",
    "```\n",
    "\n",
    "### mongodb shell\n",
    "\n",
    "```\n",
    "mongo --host localhost:27017\n",
    "\n",
    "```"
   ]
  }
 ],
 "metadata": {
  "kernelspec": {
   "display_name": "Python 3",
   "language": "python",
   "name": "python3"
  },
  "language_info": {
   "codemirror_mode": {
    "name": "ipython",
    "version": 3
   },
   "file_extension": ".py",
   "mimetype": "text/x-python",
   "name": "python",
   "nbconvert_exporter": "python",
   "pygments_lexer": "ipython3",
   "version": "3.6.4"
  },
  "latex_envs": {
   "LaTeX_envs_menu_present": true,
   "autoclose": false,
   "autocomplete": true,
   "bibliofile": "biblio.bib",
   "cite_by": "apalike",
   "current_citInitial": 1,
   "eqLabelWithNumbers": true,
   "eqNumInitial": 1,
   "hotkeys": {
    "equation": "Ctrl-E",
    "itemize": "Ctrl-I"
   },
   "labels_anchors": false,
   "latex_user_defs": false,
   "report_style_numbering": false,
   "user_envs_cfg": false
  },
  "toc": {
   "base_numbering": 1,
   "nav_menu": {},
   "number_sections": true,
   "sideBar": true,
   "skip_h1_title": false,
   "title_cell": "Table of Contents",
   "title_sidebar": "Contents",
   "toc_cell": false,
   "toc_position": {},
   "toc_section_display": true,
   "toc_window_display": false
  }
 },
 "nbformat": 4,
 "nbformat_minor": 2
}
