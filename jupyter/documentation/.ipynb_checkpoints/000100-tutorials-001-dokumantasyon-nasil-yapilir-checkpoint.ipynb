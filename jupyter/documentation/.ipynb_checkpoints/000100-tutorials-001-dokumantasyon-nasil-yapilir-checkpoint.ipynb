{
 "cells": [
  {
   "cell_type": "markdown",
   "metadata": {},
   "source": [
    "# Dokümantasyon nasıl yapılır\n",
    "\n",
    "## Giriş\n",
    "\n",
    "Bu dokuman bir gelisitiricinin gelistirme asamasinda dokümantasyonu nasıl yapacağını içerir.\n"
   ]
  },
  {
   "cell_type": "markdown",
   "metadata": {},
   "source": [
    "## Altyapı\n",
    "\n",
    "AÇM projesi kapsamında dokümantasyon Jupyter+Markdown+Python üçlüsünün entegrasyonundan doğan bir dokümantasyon ortamı ile yapılır. Bu ortamda dokümantasyon web arayüzünde IPython dosyaları yaratılarak yapılır. Jupyter hakkında giriş seviyesinde bilgi edinmek için [burayı](http://jupyter.org) sitesini ziyaret ediniz.\n",
    "\n",
    "\n"
   ]
  },
  {
   "cell_type": "markdown",
   "metadata": {},
   "source": [
    "## Gereksinimler\n",
    "\n",
    "Dokümantasyon yapabilmek için aşağıdaki bilgi birikimine ihtiyacınız vardır.\n",
    "\n",
    "1. Markdown dilini bilmek\n",
    "1. Jupyter'de notebook yaratıp içerik girebilmek\n",
    "1. Python script + bash script bilmek\n"
   ]
  },
  {
   "cell_type": "markdown",
   "metadata": {},
   "source": [
    "## Dokümantasyon adımları\n",
    "\n",
    "\n",
    "Yukarıdaki gereksinimleri biliyorsanız aşağıdaki adımları takip ederek dokümantasyon yapabilirsiniz.\n",
    "\n",
    "1. http://192.168.11.55:2001 sayfasını ziyaret ederek Jupyter ortamına girilir. Giriş için gerekli **token** ACM git projesinin readme.md dosyasında yazılıdır.\n",
    "1. documentation dizinine gidilir ve varolan bir ipynb dosyası açılır veya yeni bir ipynb (python dosyası) dosyası arayüz kullanılarak yaratılır.\n",
    "1. Dosya yaratıldıktan sonra her bir hücre'de markdown dili ile dokümantasyon yapılır.\n",
    "1. Dokümantasyon bittiğinde pdf üretimi için ACM proje anadizini altındaki **documentation** dizini bash shell ile ziyraret edilir ve make.printpreview.py dosyası terminalde çalıştırılır.\n",
    "1. Çıktı olarak üretilen PDF dosyası acm-book.pdf adında build dizini altında mevcuttur. bu dosyaya jupyter'i bir internet gezgini aracılığı ile de ulaşılabilir yada doğruda dosya yoneticisi veya shell ile de ulaşılabilir.\n",
    "1. Yapılan dokümantasyonun git repository ye push (yüklenmesi) edilmesi gereklidir, bu unutulmamamlıdır.\n"
   ]
  }
 ],
 "metadata": {
  "kernelspec": {
   "display_name": "Python 3",
   "language": "python",
   "name": "python3"
  },
  "language_info": {
   "codemirror_mode": {
    "name": "ipython",
    "version": 3
   },
   "file_extension": ".py",
   "mimetype": "text/x-python",
   "name": "python",
   "nbconvert_exporter": "python",
   "pygments_lexer": "ipython3",
   "version": "3.6.4"
  },
  "latex_envs": {
   "LaTeX_envs_menu_present": true,
   "autoclose": false,
   "autocomplete": true,
   "bibliofile": "biblio.bib",
   "cite_by": "apalike",
   "current_citInitial": 1,
   "eqLabelWithNumbers": true,
   "eqNumInitial": 1,
   "hotkeys": {
    "equation": "Ctrl-E",
    "itemize": "Ctrl-I"
   },
   "labels_anchors": false,
   "latex_user_defs": false,
   "report_style_numbering": false,
   "user_envs_cfg": false
  },
  "toc": {
   "base_numbering": 1,
   "nav_menu": {},
   "number_sections": true,
   "sideBar": true,
   "skip_h1_title": false,
   "title_cell": "Table of Contents",
   "title_sidebar": "Contents",
   "toc_cell": false,
   "toc_position": {},
   "toc_section_display": true,
   "toc_window_display": false
  }
 },
 "nbformat": 4,
 "nbformat_minor": 2
}
