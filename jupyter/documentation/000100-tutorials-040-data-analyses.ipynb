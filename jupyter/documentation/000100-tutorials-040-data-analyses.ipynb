{
 "cells": [
  {
   "cell_type": "markdown",
   "metadata": {},
   "source": [
    "#  Veri analizi sonuclari\n",
    "\n",
    "\n",
    "## Giris\n",
    "\n",
    "Bu bolumde ACM projesi kapsaminda veri analizi sonuclari yer almaktadir. Her bir veri analizi fazlar halinde yapilacaktir. Faz-000100 adli ilk faz sonuclandi.\n",
    "\n",
    "### Alo185 Veri analizi\n",
    "\n",
    "Bu bolum, Alo185 verisine ait veri analizi sonuclarini icerir. Her bir alt bolum uygulanan bir faz'a denk gelmektedir.\n",
    "\n",
    "#### Faz-000100\n",
    "\n",
    "Bu fazda asagidaki sonuclar elde edilmistir.\n",
    "\n",
    "1. Veri html decode edilerek temizlendi\n",
    "1. 100 sample'lik veri uzerinde carrot2 ile foamtree uretildi.\n",
    "1. Veri temizleme islemleri icin python script yazildi. Bu esnada veri temizleme ve python kod standartari belirlendi.\n",
    "\n",
    "Foamtree resmi asagidaki gibidir\n",
    "\n",
    "![Carrot2-Foamtree](./images/alo185.carrot2.foamtree.png)\n",
    "\n",
    "**TODO**\n",
    "\n",
    "1. Veri zenginlentirmesi\n",
    "1. Ileri seviye veri temizleme\n",
    "1. Turkce vobaulary hazirlanmasi\n"
   ]
  }
 ],
 "metadata": {
  "kernelspec": {
   "display_name": "Python 3",
   "language": "python",
   "name": "python3"
  },
  "language_info": {
   "codemirror_mode": {
    "name": "ipython",
    "version": 3
   },
   "file_extension": ".py",
   "mimetype": "text/x-python",
   "name": "python",
   "nbconvert_exporter": "python",
   "pygments_lexer": "ipython3",
   "version": "3.6.4"
  },
  "latex_envs": {
   "LaTeX_envs_menu_present": true,
   "autoclose": false,
   "autocomplete": true,
   "bibliofile": "biblio.bib",
   "cite_by": "apalike",
   "current_citInitial": 1,
   "eqLabelWithNumbers": true,
   "eqNumInitial": 1,
   "hotkeys": {
    "equation": "Ctrl-E",
    "itemize": "Ctrl-I"
   },
   "labels_anchors": false,
   "latex_user_defs": false,
   "report_style_numbering": false,
   "user_envs_cfg": false
  },
  "toc": {
   "base_numbering": 1,
   "nav_menu": {},
   "number_sections": true,
   "sideBar": true,
   "skip_h1_title": false,
   "title_cell": "Table of Contents",
   "title_sidebar": "Contents",
   "toc_cell": false,
   "toc_position": {},
   "toc_section_display": true,
   "toc_window_display": false
  }
 },
 "nbformat": 4,
 "nbformat_minor": 2
}
