{
 "cells": [
  {
   "cell_type": "markdown",
   "metadata": {},
   "source": [
    "# Install docker\n",
    "\n",
    "see https://www.digitalocean.com/community/tutorials/how-to-install-and-use-docker-on-centos-7\n",
    "\n",
    "\n",
    "first do check.\n",
    "\n",
    "```\n",
    "sudo yum check-update\n",
    "```\n",
    "\n",
    "then install!\n",
    "```\n",
    "curl -fsSL https://get.docker.com/ | sh\n",
    "```\n",
    "\n",
    "After installation has completed, start the Docker daemon:\n",
    "\n",
    "```\n",
    "sudo systemctl start docker\n",
    "```\n",
    "\n",
    "Verify that it's running:\n",
    "```\n",
    "sudo systemctl status docker\n",
    "```"
   ]
  }
 ],
 "metadata": {
  "kernelspec": {
   "display_name": "Python 3",
   "language": "python",
   "name": "python3"
  },
  "language_info": {
   "codemirror_mode": {
    "name": "ipython",
    "version": 3
   },
   "file_extension": ".py",
   "mimetype": "text/x-python",
   "name": "python",
   "nbconvert_exporter": "python",
   "pygments_lexer": "ipython3",
   "version": "3.6.4"
  },
  "latex_envs": {
   "LaTeX_envs_menu_present": true,
   "autoclose": false,
   "autocomplete": true,
   "bibliofile": "biblio.bib",
   "cite_by": "apalike",
   "current_citInitial": 1,
   "eqLabelWithNumbers": true,
   "eqNumInitial": 1,
   "hotkeys": {
    "equation": "Ctrl-E",
    "itemize": "Ctrl-I"
   },
   "labels_anchors": false,
   "latex_user_defs": false,
   "report_style_numbering": false,
   "user_envs_cfg": false
  },
  "toc": {
   "base_numbering": 1,
   "nav_menu": {},
   "number_sections": true,
   "sideBar": true,
   "skip_h1_title": false,
   "title_cell": "Table of Contents",
   "title_sidebar": "Contents",
   "toc_cell": false,
   "toc_position": {},
   "toc_section_display": true,
   "toc_window_display": false
  }
 },
 "nbformat": 4,
 "nbformat_minor": 2
}
